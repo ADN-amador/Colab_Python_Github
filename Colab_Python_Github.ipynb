{
  "nbformat": 4,
  "nbformat_minor": 0,
  "metadata": {
    "colab": {
      "name": "Colab_Python_Github.ipynb",
      "provenance": [],
      "authorship_tag": "ABX9TyN1hUjB6GWS8Ls6FASRxh0t",
      "include_colab_link": true
    },
    "kernelspec": {
      "name": "python3",
      "display_name": "Python 3"
    },
    "language_info": {
      "name": "python"
    }
  },
  "cells": [
    {
      "cell_type": "markdown",
      "metadata": {
        "id": "view-in-github",
        "colab_type": "text"
      },
      "source": [
        "<a href=\"https://colab.research.google.com/github/ADN-amador/Colab_Python_Github/blob/main/Colab_Python_Github.ipynb\" target=\"_parent\"><img src=\"https://colab.research.google.com/assets/colab-badge.svg\" alt=\"Open In Colab\"/></a>"
      ]
    },
    {
      "cell_type": "code",
      "execution_count": null,
      "metadata": {
        "id": "tJ_BKENYwzBy"
      },
      "outputs": [],
      "source": [
        ""
      ]
    }
  ]
}