{
  "nbformat": 4,
  "nbformat_minor": 0,
  "metadata": {
    "colab": {
      "name": "Colab_Python_Github.ipynb",
      "provenance": [],
      "collapsed_sections": [],
      "authorship_tag": "ABX9TyORnldYvmAS5aLvxn35YQtf",
      "include_colab_link": true
    },
    "kernelspec": {
      "name": "python3",
      "display_name": "Python 3"
    },
    "language_info": {
      "name": "python"
    }
  },
  "cells": [
    {
      "cell_type": "markdown",
      "metadata": {
        "id": "view-in-github",
        "colab_type": "text"
      },
      "source": [
        "<a href=\"https://colab.research.google.com/github/ADN-amador/Colab_Python_Github/blob/main/Colab_Python_Github.ipynb\" target=\"_parent\"><img src=\"https://colab.research.google.com/assets/colab-badge.svg\" alt=\"Open In Colab\"/></a>"
      ]
    },
    {
      "cell_type": "code",
      "execution_count": null,
      "metadata": {
        "colab": {
          "base_uri": "https://localhost:8080/"
        },
        "id": "tJ_BKENYwzBy",
        "outputId": "0da4c5aa-1976-4023-bfbd-f24ac6b11080"
      },
      "outputs": [
        {
          "output_type": "stream",
          "name": "stdout",
          "text": [
            "Noah es una creacion de A y K\n"
          ]
        }
      ],
      "source": [
        "papa=\"A\"\n",
        "mama=\"K\"\n",
        "bebe=\"Noah\"\n",
        "print(bebe+\" es una creación de \"+papa+\" y \"+mama)"
      ]
    },
    {
      "cell_type": "code",
      "source": [
        "'''Cargando practica de guardado...'''"
      ],
      "metadata": {
        "id": "sNTNz8-JzCiV"
      },
      "execution_count": null,
      "outputs": []
    }
  ]
}